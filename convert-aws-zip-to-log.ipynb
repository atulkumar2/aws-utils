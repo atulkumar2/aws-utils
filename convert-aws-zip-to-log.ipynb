{
 "cells": [
  {
   "cell_type": "code",
   "execution_count": 5,
   "metadata": {},
   "outputs": [],
   "source": [
    "import gzip\n",
    "import shutil\n",
    "import os\n",
    "import pathlib"
   ]
  },
  {
   "cell_type": "code",
   "execution_count": 39,
   "metadata": {},
   "outputs": [],
   "source": [
    "dir_loc = \"C:\\\\Users\\\\atulk_0o0fet8\\\\Documents\\\\Sigma\\\\Hansen\\\\hw_elb_logs_20190320\"\n",
    "path_ = pathlib.Path(dir_loc)\n",
    "files = list(path_.glob(\"*.gz\"))"
   ]
  },
  {
   "cell_type": "code",
   "execution_count": 40,
   "metadata": {},
   "outputs": [],
   "source": [
    "for zipfile in files:\n",
    "    zipfile = str(zipfile)\n",
    "    file_parts = os.path.split(zipfile)\n",
    "    unzippedfile = os.path.join(file_parts[0], str(file_parts[1]).replace('.gz',''))\n",
    "    with gzip.open(zipfile, 'rb') as f_in:\n",
    "        with open(unzippedfile, 'wb') as f_out:\n",
    "            shutil.copyfileobj(f_in, f_out)"
   ]
  },
  {
   "cell_type": "code",
   "execution_count": null,
   "metadata": {},
   "outputs": [],
   "source": [
    "type(files)\n",
    "file_name = str(os.path.split(str(files[0]))[1])\n",
    "print(file_name)\n",
    "print(file_name.replace(\".gz\",\"\"))\n",
    "\n",
    "os.path.split(str(files[0]))[1].replace(\".gz\",\"\")"
   ]
  }
 ],
 "metadata": {
  "kernelspec": {
   "display_name": "Python 3",
   "language": "python",
   "name": "python3"
  },
  "language_info": {
   "codemirror_mode": {
    "name": "ipython",
    "version": 3
   },
   "file_extension": ".py",
   "mimetype": "text/x-python",
   "name": "python",
   "nbconvert_exporter": "python",
   "pygments_lexer": "ipython3",
   "version": "3.7.2"
  }
 },
 "nbformat": 4,
 "nbformat_minor": 2
}
